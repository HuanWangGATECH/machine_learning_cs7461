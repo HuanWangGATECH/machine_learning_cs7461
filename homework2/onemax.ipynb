{
 "cells": [
  {
   "cell_type": "code",
   "execution_count": 1,
   "metadata": {
    "scrolled": true
   },
   "outputs": [
    {
     "name": "stderr",
     "output_type": "stream",
     "text": [
      "/home/yoooda/anaconda3/lib/python3.7/site-packages/sklearn/externals/six.py:31: FutureWarning: The module is deprecated in version 0.21 and will be removed in version 0.23 since we've dropped support for Python 2.7. Please rely on the official version of six (https://pypi.org/project/six/).\n",
      "  \"(https://pypi.org/project/six/).\", FutureWarning)\n"
     ]
    }
   ],
   "source": [
    "import mlrose\n",
    "import numpy as np\n",
    "import matplotlib.pyplot as plt\n",
    "\n",
    "from sklearn.datasets import load_iris\n",
    "from sklearn.model_selection import train_test_split\n",
    "from sklearn.preprocessing import MinMaxScaler, OneHotEncoder\n",
    "from sklearn.metrics import accuracy_score\n",
    "import time\n",
    "import csv\n",
    "from random import randint"
   ]
  },
  {
   "cell_type": "code",
   "execution_count": 2,
   "metadata": {},
   "outputs": [],
   "source": [
    "import  matplotlib.pyplot as plt\n",
    "%matplotlib inline "
   ]
  },
  {
   "cell_type": "code",
   "execution_count": 8,
   "metadata": {},
   "outputs": [],
   "source": [
    "problem_size=30\n",
    "\n",
    "function=mlrose.OneMax()\n",
    "problem_fit=mlrose.DiscreteOpt(problem_size, function)\n",
    "        \n",
    "seed=randint(1, 100)\n",
    "\n",
    "start=time.time()\n",
    "\n",
    "best_state, best_fitness, curve1 = mlrose.genetic_alg(problem_fit, \\\n",
    "                                    mutation_prob = 0.1,\\\n",
    "                                    max_attempts = 500, \\\n",
    "                                    pop_size=200,\\\n",
    "                                    max_iters= 1000, curve=True, random_state=seed)\n",
    "\n",
    "end=time.time()\n",
    "time1=end-start\n",
    "\n",
    "start=time.time()\n",
    "\n",
    "best_state, best_fitness, curve2 = mlrose.simulated_annealing(problem_fit,\\\n",
    "                                    max_attempts = 500, \\\n",
    "                                    max_iters=1000,\\\n",
    "                                    curve=True, \\\n",
    "                                    schedule=mlrose.GeomDecay(init_temp=0.20),\\\n",
    "                                    random_state=seed)\n",
    "\n",
    "end=time.time()\n",
    "time2=end-start\n",
    " \n",
    "\n",
    "start=time.time()\n",
    "best_state, best_fitness, curve3 = mlrose.random_hill_climb(problem_fit, \\\n",
    "                                    restarts=0,\\\n",
    "                                    max_attempts = 500, \\\n",
    "                                    max_iters=1000, curve=True, random_state=seed)\n",
    "\n",
    "\n",
    "end=time.time()\n",
    "time3=end-start\n",
    "\n",
    "start=time.time()\n",
    "\n",
    "best_state, best_fitness, curve4 = mlrose.mimic(problem_fit, \\\n",
    "                                    keep_pct=0.2,\\\n",
    "                                    max_attempts = 10000, \\\n",
    "                                    max_iters=100, curve=True, random_state=seed)\n",
    "end=time.time()\n",
    "time4=end-start"
   ]
  },
  {
   "cell_type": "code",
   "execution_count": 9,
   "metadata": {},
   "outputs": [
    {
     "data": {
      "image/png": "[encoded data removed]",
      "text/plain": [
       "<Figure size 432x288 with 1 Axes>"
      ]
     },
     "metadata": {
      "needs_background": "light"
     },
     "output_type": "display_data"
    }
   ],
   "source": [
    "## fitness vs iteration \n",
    "plt.plot(curve1,'r')\n",
    "plt.plot(curve2,'g')\n",
    "plt.plot(curve3,'b')\n",
    "plt.plot(curve4,'y')\n",
    "plt.legend([\"ga\",\"sa\",\"rhc\",\"mimic\"],loc='upper right')\n",
    "plt.xlabel(\"Iteration\")\n",
    "plt.ylabel(\"Fitness function\")\n",
    "plt.show()"
   ]
  },
  {
   "cell_type": "code",
   "execution_count": 10,
   "metadata": {},
   "outputs": [],
   "source": [
    "def change_index(arr,time):\n",
    "    res=[]\n",
    "    for i,v in enumerate(arr):\n",
    "        res.append([i*time/(len(arr)-1)*100,v])\n",
    "        \n",
    "    return np.array(res)\n",
    "        "
   ]
  },
  {
   "cell_type": "code",
   "execution_count": 11,
   "metadata": {},
   "outputs": [],
   "source": [
    "curve1s=change_index(curve1,time1)\n",
    "curve2s=change_index(curve2,time2)\n",
    "curve3s=change_index(curve3,time3)\n",
    "curve4s=change_index(curve4,time4)"
   ]
  },
  {
   "cell_type": "code",
   "execution_count": 12,
   "metadata": {
    "scrolled": true
   },
   "outputs": [
    {
     "data": {
      "image/png": "[encoded data removed]",
      "text/plain": [
       "<Figure size 432x288 with 1 Axes>"
      ]
     },
     "metadata": {
      "needs_background": "light"
     },
     "output_type": "display_data"
    }
   ],
   "source": [
    "#### plot fitness vs optimization time \n",
    "plt.plot(curve1s[:,0],curve1s[:,1],'r')\n",
    "plt.plot(curve2s[:,0],curve2s[:,1],'g')\n",
    "plt.plot(curve3s[:,0],curve3s[:,1],'b')\n",
    "plt.plot(curve4s[:,0],curve4s[:,1],'y')\n",
    "plt.legend([\"ga\",\"sa\",\"rhc\",\"mimic\"],loc='upper right')\n",
    "plt.xlim([-5,200])\n",
    "#plt.ylim([0,200])\n",
    "plt.xlabel(\"Time(s)\")\n",
    "plt.ylabel(\"Fitness function\")\n",
    "\n",
    "plt.show()"
   ]
  },
  {
   "cell_type": "code",
   "execution_count": 14,
   "metadata": {},
   "outputs": [],
   "source": [
    "TRAINING_ITERATIONS = [10*i for i in range(20)]\n",
    "\n",
    "function=mlrose.OneMax()\n",
    "problem_fit=mlrose.DiscreteOpt(30, function)\n",
    "\n",
    "for itrial in range(4):\n",
    "    iterdata = []\n",
    "\n",
    "    for iteration in TRAINING_ITERATIONS:\n",
    "\n",
    "        seed=randint(1, 100)\n",
    "        start=time.time()\n",
    "        best_state, best_fitness, curve = mlrose.genetic_alg(problem_fit, \\\n",
    "                                            mutation_prob = 0.1,\\\n",
    "                                            max_attempts = 500, \\\n",
    "                                            pop_size=200,\\\n",
    "                                            max_iters= iteration, curve=True, random_state=seed)\n",
    "        end=time.time()\n",
    "        ga_time=end-start\n",
    "        ga_fit=best_fitness\n",
    "            \n",
    "        start=time.time()\n",
    "        best_state, best_fitness, curve = mlrose.simulated_annealing(problem_fit,\\\n",
    "                                            max_attempts = 500, \\\n",
    "                                            max_iters=iteration,\\\n",
    "                                            curve=True, \\\n",
    "                                            schedule=mlrose.GeomDecay(init_temp=0.20),\\\n",
    "                                            random_state=seed)\n",
    "        end=time.time()\n",
    "        sa_time=end-start\n",
    "        sa_fit=best_fitness\n",
    "        \n",
    "        start=time.time()\n",
    "        best_state, best_fitness, curve = mlrose.random_hill_climb(problem_fit, \\\n",
    "                                            restarts=0,\\\n",
    "                                            max_attempts = 500, \\\n",
    "                                            max_iters=iteration, curve=True, random_state=seed)\n",
    "        \n",
    "        end=time.time()\n",
    "        rhc_time=end-start\n",
    "        rhc_fit=best_fitness\n",
    "\n",
    "        start=time.time()\n",
    "        best_state, best_fitness, curve = mlrose.mimic(problem_fit, \\\n",
    "                                            keep_pct=0.2,\\\n",
    "                                            max_attempts = 500, \\\n",
    "                                            max_iters=iteration, curve=True, random_state=seed)\n",
    "        end=time.time()\n",
    "        mimic_time=end-start\n",
    "        mimic_fit=best_fitness\n",
    "        iterdata.append([iteration,ga_fit,ga_time,sa_fit,sa_time,rhc_fit,rhc_time,mimic_fit,mimic_time])\n",
    "        \n",
    "    with open(\"onemax_{}.csv\".format(str(itrial)),'w') as resultFile:\n",
    "        wr = csv.writer(resultFile, dialect='excel')\n",
    "        wr.writerow(['iteration','ga_fit','ga_time','sa_fit','sa_time','rhc_fit','rhc_time','mimic_fit','mimic_time'])\n",
    "        wr.writerows(iterdata) "
   ]
  },
  {
   "cell_type": "code",
   "execution_count": null,
   "metadata": {},
   "outputs": [],
   "source": []
  }
 ],
 "metadata": {
  "kernelspec": {
   "display_name": "Python 3",
   "language": "python",
   "name": "python3"
  },
  "language_info": {
   "codemirror_mode": {
    "name": "ipython",
    "version": 3
   },
   "file_extension": ".py",
   "mimetype": "text/x-python",
   "name": "python",
   "nbconvert_exporter": "python",
   "pygments_lexer": "ipython3",
   "version": "3.7.3"
  }
 },
 "nbformat": 4,
 "nbformat_minor": 2
}
