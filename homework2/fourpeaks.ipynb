{
 "cells": [
  {
   "cell_type": "code",
   "execution_count": 2,
   "metadata": {},
   "outputs": [
    {
     "name": "stderr",
     "output_type": "stream",
     "text": [
      "/home/yoooda/anaconda3/lib/python3.7/site-packages/sklearn/externals/six.py:31: FutureWarning: The module is deprecated in version 0.21 and will be removed in version 0.23 since we've dropped support for Python 2.7. Please rely on the official version of six (https://pypi.org/project/six/).\n",
      "  \"(https://pypi.org/project/six/).\", FutureWarning)\n"
     ]
    }
   ],
   "source": [
    "import mlrose\n",
    "import numpy as np\n",
    "import matplotlib.pyplot as plt\n",
    "\n",
    "from sklearn.datasets import load_iris\n",
    "from sklearn.model_selection import train_test_split\n",
    "from sklearn.preprocessing import MinMaxScaler, OneHotEncoder\n",
    "from sklearn.metrics import accuracy_score\n",
    "import time\n",
    "import csv\n",
    "from random import randint"
   ]
  },
  {
   "cell_type": "code",
   "execution_count": 33,
   "metadata": {},
   "outputs": [],
   "source": [
    "#problem size\n",
    "\n",
    "problem_size=20\n",
    "function=mlrose.FourPeaks(t_pct=0.2)\n",
    "problem_fit=mlrose.DiscreteOpt(problem_size, function)\n",
    "\n",
    "seed=randint(1, 100)\n",
    "\n",
    "start=time.time()\n",
    "\n",
    "best_state, best_fitness, curve1 = mlrose.genetic_alg(problem_fit, \\\n",
    "                                    mutation_prob = 0.1,\\\n",
    "                                    max_attempts = 500, \\\n",
    "                                    pop_size=200,\\\n",
    "                                    max_iters= 1000, curve=True, random_state=seed)\n",
    "\n",
    "end=time.time()\n",
    "time1=end-start\n",
    "\n",
    "start=time.time()\n",
    "\n",
    "best_state, best_fitness, curve2 = mlrose.simulated_annealing(problem_fit,\\\n",
    "                                    max_attempts = 500, \\\n",
    "                                    max_iters=1000,\\\n",
    "                                    curve=True, \\\n",
    "                                    schedule=mlrose.GeomDecay(init_temp=0.20),\\\n",
    "                                    random_state=seed)\n",
    "\n",
    "end=time.time()\n",
    "time2=end-start\n",
    " \n",
    "\n",
    "start=time.time()\n",
    "best_state, best_fitness, curve3 = mlrose.random_hill_climb(problem_fit, \\\n",
    "                                    restarts=0,\\\n",
    "                                    max_attempts = 500, \\\n",
    "                                    max_iters=1000, curve=True, random_state=seed)\n",
    "\n",
    "\n",
    "end=time.time()\n",
    "time3=end-start\n",
    "\n",
    "start=time.time()\n",
    "\n",
    "best_state, best_fitness, curve4 = mlrose.mimic(problem_fit, \\\n",
    "                                    keep_pct=0.2,\\\n",
    "                                    max_attempts = 10000, \\\n",
    "                                    max_iters=100, curve=True, random_state=seed)\n",
    "end=time.time()\n",
    "time4=end-start"
   ]
  },
  {
   "cell_type": "code",
   "execution_count": 39,
   "metadata": {},
   "outputs": [
    {
     "data": {
      "image/png": "[encoded data removed]",
      "text/plain": [
       "<Figure size 432x288 with 1 Axes>"
      ]
     },
     "metadata": {
      "needs_background": "light"
     },
     "output_type": "display_data"
    }
   ],
   "source": [
    "## fitness vs iteration \n",
    "plt.plot(curve1,'r')\n",
    "plt.plot(curve2,'g')\n",
    "plt.plot(curve3,'b')\n",
    "plt.plot(curve4,'y')\n",
    "plt.legend([\"ga\",\"sa\",\"rhc\",\"mimic\"],loc='lower right')\n",
    "plt.xlabel(\"Iteration\")\n",
    "plt.ylabel(\"Fitness function\")\n",
    "plt.show()"
   ]
  },
  {
   "cell_type": "code",
   "execution_count": 40,
   "metadata": {},
   "outputs": [],
   "source": [
    "def change_index(arr,time):\n",
    "    res=[]\n",
    "    for i,v in enumerate(arr):\n",
    "        res.append([i*time/(len(arr)-1)*100,v])\n",
    "        \n",
    "    return np.array(res)\n",
    "        "
   ]
  },
  {
   "cell_type": "code",
   "execution_count": 41,
   "metadata": {},
   "outputs": [],
   "source": [
    "curve1s=change_index(curve1,time1)\n",
    "curve2s=change_index(curve2,time2)\n",
    "curve3s=change_index(curve3,time3)\n",
    "curve4s=change_index(curve4,time4)"
   ]
  },
  {
   "cell_type": "code",
   "execution_count": 42,
   "metadata": {},
   "outputs": [
    {
     "data": {
      "image/png": "[encoded data removed]",
      "text/plain": [
       "<Figure size 432x288 with 1 Axes>"
      ]
     },
     "metadata": {
      "needs_background": "light"
     },
     "output_type": "display_data"
    }
   ],
   "source": [
    "#### plot fitness vs optimization time \n",
    "plt.plot(curve1s[:,0],curve1s[:,1],'r')\n",
    "plt.plot(curve2s[:,0],curve2s[:,1],'g')\n",
    "plt.plot(curve3s[:,0],curve3s[:,1],'b')\n",
    "plt.plot(curve4s[:,0],curve4s[:,1],'y')\n",
    "plt.legend([\"ga\",\"sa\",\"rhc\",\"mimic\"],loc='lower right')\n",
    "plt.xlim([-5,50])\n",
    "#plt.ylim([0,200])\n",
    "plt.xlabel(\"Time(s)\")\n",
    "plt.ylabel(\"Fitness function\")\n",
    "\n",
    "plt.show()"
   ]
  },
  {
   "cell_type": "code",
   "execution_count": 76,
   "metadata": {},
   "outputs": [
    {
     "name": "stdout",
     "output_type": "stream",
     "text": [
      "The best state found is:  [6 4 7 3 6 2 5 1]\n",
      "The fitness at the best state is:  2.0\n"
     ]
    }
   ],
   "source": [
    "# Initialize fitness function object using pre-defined class\n",
    "fitness = mlrose.Queens()\n",
    "\n",
    "# Define optimization problem object\n",
    "problem = mlrose.DiscreteOpt(length = 8, fitness_fn = fitness, maximize=False, max_val=8)\n",
    "\n",
    "# Define decay schedule\n",
    "schedule = mlrose.ExpDecay()\n",
    "\n",
    "init_state = np.array([0, 1, 2, 3, 4, 5, 6, 7])\n",
    "best_state, best_fitness = mlrose.simulated_annealing(problem, schedule = schedule, max_attempts = 10, \n",
    "                                                      max_iters = 1000, init_state = init_state,\n",
    "                                                      random_state = 1)\n",
    "\n",
    "print('The best state found is: ', best_state)\n",
    "\n",
    "print('The fitness at the best state is: ', best_fitness)\n",
    "\n",
    "# Solve using simulated annealing - attempt 2\n",
    "best_state, best_fitness = mlrose.simulated_annealing(problem, schedule = schedule, max_attempts = 100, \n",
    "                                                      max_iters = 1000, init_state = init_state,\n",
    "                                                      random_state = 1)\n",
    "\n",
    "\n"
   ]
  },
  {
   "cell_type": "code",
   "execution_count": 31,
   "metadata": {},
   "outputs": [],
   "source": [
    "\n",
    "TRAINING_ITERATIONS = [20*i for i in range(12)]"
   ]
  },
  {
   "cell_type": "markdown",
   "metadata": {},
   "source": [
    "# Four peaks"
   ]
  },
  {
   "cell_type": "code",
   "execution_count": 32,
   "metadata": {},
   "outputs": [
    {
     "name": "stderr",
     "output_type": "stream",
     "text": [
      "/home/yoooda/anaconda3/lib/python3.7/site-packages/mlrose/algorithms.py:311: RuntimeWarning: overflow encountered in exp\n",
      "  prob = np.exp(delta_e/temp)\n",
      "/home/yoooda/anaconda3/lib/python3.7/site-packages/mlrose/algorithms.py:311: RuntimeWarning: overflow encountered in exp\n",
      "  prob = np.exp(delta_e/temp)\n"
     ]
    }
   ],
   "source": [
    "\n",
    "TRAINING_ITERATIONS = [20*i for i in range(20)]\n",
    "\n",
    "function=mlrose.FourPeaks(t_pct=0.2)\n",
    "problem_fit=mlrose.DiscreteOpt(30, function)\n",
    "\n",
    "for itrial in range(4):\n",
    "    iterdata = []\n",
    "\n",
    "    for iteration in TRAINING_ITERATIONS:\n",
    "        seed=randint(1, 100)\n",
    "        start=time.time()\n",
    "        best_state, best_fitness, curve = mlrose.genetic_alg(problem_fit, \\\n",
    "                                            mutation_prob = 0.1,\\\n",
    "                                            max_attempts = 500, \\\n",
    "                                            pop_size=200,\\\n",
    "                                            max_iters= iteration, curve=True, random_state=seed)\n",
    "        end=time.time()\n",
    "        ga_time=end-start\n",
    "        ga_fit=best_fitness\n",
    "            \n",
    "        start=time.time()\n",
    "        best_state, best_fitness, curve = mlrose.simulated_annealing(problem_fit,\\\n",
    "                                            max_attempts = 500, \\\n",
    "                                            max_iters=iteration,\\\n",
    "                                            curve=True, \\\n",
    "                                            schedule=mlrose.GeomDecay(init_temp=0.20),\\\n",
    "                                            random_state=seed)\n",
    "        end=time.time()\n",
    "        sa_time=end-start\n",
    "        sa_fit=best_fitness\n",
    "        \n",
    "        start=time.time()\n",
    "        best_state, best_fitness, curve = mlrose.random_hill_climb(problem_fit, \\\n",
    "                                            restarts=0,\\\n",
    "                                            max_attempts = 500, \\\n",
    "                                            max_iters=iteration, curve=True, random_state=seed)\n",
    "        \n",
    "        end=time.time()\n",
    "        rhc_time=end-start\n",
    "        rhc_fit=best_fitness\n",
    "\n",
    "        start=time.time()\n",
    "        best_state, best_fitness, curve = mlrose.mimic(problem_fit, \\\n",
    "                                            keep_pct=0.2,\\\n",
    "                                            max_attempts = 500, \\\n",
    "                                            max_iters=iteration, curve=True, random_state=seed)\n",
    "        end=time.time()\n",
    "        mimic_time=end-start\n",
    "        mimic_fit=best_fitness\n",
    "        iterdata.append([iteration,ga_fit,ga_time,sa_fit,sa_time,rhc_fit,rhc_time,mimic_fit,mimic_time])\n",
    "        \n",
    "    with open(\"fourpeaks_{}.csv\".format(str(itrial)),'w') as resultFile:\n",
    "        wr = csv.writer(resultFile, dialect='excel')\n",
    "        wr.writerow(['iteration','ga_fit','ga_time','sa_fit','sa_time','rhc_fit','rhc_time','mimic_fit','mimic_time'])\n",
    "        wr.writerows(iterdata) "
   ]
  },
  {
   "cell_type": "code",
   "execution_count": null,
   "metadata": {},
   "outputs": [],
   "source": []
  }
 ],
 "metadata": {
  "kernelspec": {
   "display_name": "Python 3",
   "language": "python",
   "name": "python3"
  },
  "language_info": {
   "codemirror_mode": {
    "name": "ipython",
    "version": 3
   },
   "file_extension": ".py",
   "mimetype": "text/x-python",
   "name": "python",
   "nbconvert_exporter": "python",
   "pygments_lexer": "ipython3",
   "version": "3.7.3"
  }
 },
 "nbformat": 4,
 "nbformat_minor": 2
}
